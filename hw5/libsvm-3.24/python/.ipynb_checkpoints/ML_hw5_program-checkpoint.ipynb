{
 "cells": [
  {
   "cell_type": "code",
   "execution_count": 134,
   "metadata": {},
   "outputs": [],
   "source": [
    "import numpy as np\n",
    "from svmutil import *"
   ]
  },
  {
   "cell_type": "code",
   "execution_count": 135,
   "metadata": {},
   "outputs": [],
   "source": [
    "def readfile(filename):\n",
    "    X = []\n",
    "    Y = []\n",
    "    for lines in open(filename).readlines():\n",
    "        temp = lines.strip().split()\n",
    "        Y.append(int(temp[0]))\n",
    "        x = np.zeros(36)\n",
    "        for i in range(1, len(temp)):\n",
    "            index_value = temp[i].split(\":\")\n",
    "            x[int(index_value[0])-1] = float(index_value[1])\n",
    "        X.append(x.tolist())\n",
    "    return X, Y\n",
    "def label_OneOfTheClass(Y, Class):\n",
    "    label = np.zeros(len(Y))\n",
    "    for i in range(len(Y)):\n",
    "        if Y[i]==Class:\n",
    "            label[i] = 1\n",
    "        else:\n",
    "            label[i] = -1\n",
    "    return label\n",
    "TrainFile = \"../../satimage.scale\"\n",
    "TestFile = \"../../satimage.scale.t\"\n",
    "X, Y = readfile(TrainFile)\n",
    "Xt, Yt = readfile(TestFile)"
   ]
  },
  {
   "cell_type": "code",
   "execution_count": 136,
   "metadata": {},
   "outputs": [
    {
     "name": "stdout",
     "output_type": "stream",
     "text": [
      "15:  8.457084298367683\n"
     ]
    }
   ],
   "source": [
    "## 15\n",
    "label = label_OneOfTheClass(Y, 3)\n",
    "m = svm_train(label, X, '-s 0 -t 0 -c 10')\n",
    "SV = m.get_SV()\n",
    "alpha = m.get_sv_coef()\n",
    "SVnum = len(SV)\n",
    "w = np.zeros(36)\n",
    "for i in range(SVnum):\n",
    "    for j in range(36):\n",
    "        if SV[i].get(j+1) != None:\n",
    "            w[j] += alpha[i][0]*SV[i][j+1]\n",
    "print(\"15: \", np.sqrt(np.dot(w, w)))"
   ]
  },
  {
   "cell_type": "code",
   "execution_count": 137,
   "metadata": {},
   "outputs": [
    {
     "name": "stdout",
     "output_type": "stream",
     "text": [
      "Accuracy = 99.9324% (4432/4435) (classification)\n",
      "Accuracy = 100% (4435/4435) (classification)\n",
      "Accuracy = 97.7678% (4336/4435) (classification)\n",
      "Accuracy = 95.9865% (4257/4435) (classification)\n",
      "Accuracy = 99.3236% (4405/4435) (classification)\n",
      "16:  2\n",
      "17:  712\n"
     ]
    }
   ],
   "source": [
    "## 16, 17\n",
    "max_acc = -1\n",
    "max_SVnum = 0\n",
    "for i in range(1, 6):\n",
    "    Class = i\n",
    "    label = label_OneOfTheClass(Y, i)\n",
    "    m = svm_train(label, X, '-s 0 -t 1 -c 10 -d 2 -g 1 -r 1')\n",
    "    p_label, p_acc, p_val = svm_predict(label, X, m)\n",
    "    if p_acc[0] > max_acc:\n",
    "        max_acc = p_acc[0]\n",
    "        best = i\n",
    "    SV = m.get_SV()\n",
    "    SVnum = len(SV)\n",
    "    if SVnum > max_SVnum:\n",
    "        max_SVnum = SVnum\n",
    "print(\"16: \", best)\n",
    "print(\"17: \", max_SVnum)"
   ]
  },
  {
   "cell_type": "code",
   "execution_count": 138,
   "metadata": {},
   "outputs": [
    {
     "name": "stdout",
     "output_type": "stream",
     "text": [
      "Accuracy = 76.5% (1530/2000) (classification)\n",
      "Accuracy = 83.65% (1673/2000) (classification)\n",
      "Accuracy = 89.35% (1787/2000) (classification)\n",
      "Accuracy = 90.3% (1806/2000) (classification)\n",
      "Accuracy = 90.3% (1806/2000) (classification)\n",
      "18:  10\n"
     ]
    }
   ],
   "source": [
    "## 18\n",
    "C = [0.01, 0.1, 1, 10, 100]\n",
    "label = label_OneOfTheClass(Y, 6)\n",
    "label_t = label_OneOfTheClass(Yt, 6)\n",
    "min_Eout = 100\n",
    "for i in range(5):\n",
    "    param = '-s 0 -t 2 -g 10 -c ' + str(C[i])\n",
    "    m = svm_train(label, X, param)\n",
    "    p_label, p_acc, p_val = svm_predict(label_t, Xt, m)\n",
    "    if (100-p_acc[0]) < min_Eout:\n",
    "        min_Eout = 100-p_acc[0]\n",
    "        best = C[i]\n",
    "print(\"18: \", best)"
   ]
  },
  {
   "cell_type": "code",
   "execution_count": 139,
   "metadata": {},
   "outputs": [
    {
     "name": "stdout",
     "output_type": "stream",
     "text": [
      "Accuracy = 90.15% (1803/2000) (classification)\n",
      "Accuracy = 93% (1860/2000) (classification)\n",
      "Accuracy = 83.65% (1673/2000) (classification)\n",
      "Accuracy = 76.5% (1530/2000) (classification)\n",
      "Accuracy = 76.5% (1530/2000) (classification)\n",
      "19:  1\n"
     ]
    }
   ],
   "source": [
    "## 19\n",
    "gamma = [0.1, 1, 10, 100, 1000]\n",
    "min_Eout = 100\n",
    "for i in range(5):\n",
    "    param = '-s 0 -t 2 -c 0.1 -g ' + str(gamma[i])\n",
    "    m = svm_train(label, X, param)\n",
    "    p_label, p_acc, p_val = svm_predict(label_t, Xt, m)\n",
    "    if (100-p_acc[0]) < min_Eout:\n",
    "        min_Eout = 100-p_acc[0]\n",
    "        best = gamma[i]\n",
    "print(\"19: \", best)"
   ]
  },
  {
   "cell_type": "code",
   "execution_count": 147,
   "metadata": {},
   "outputs": [],
   "source": [
    "## 20\n",
    "gamma = [0.1, 1, 10, 100, 1000]\n",
    "data_num = len(X)\n",
    "choose_time = np.zeros([5])\n",
    "for i in range(1000):\n",
    "    X_val = []\n",
    "    Y_val = []\n",
    "    X_train = []\n",
    "    Y_train = []\n",
    "    val = np.random.randint(0, data_num, 200)\n",
    "    is_val = np.zeros(data_num)\n",
    "    for j in range(200):\n",
    "        is_val[val[j]] = 1\n",
    "    for j in range(data_num):\n",
    "        if is_val[j] == 1:\n",
    "            X_val.append(X[j])\n",
    "            Y_val.append(Y[j])\n",
    "        else:\n",
    "            X_train.append(X[j])\n",
    "            Y_train.append(Y[j])\n",
    "    label_val = label_OneOfTheClass(Y_val, 6)\n",
    "    label_train = label_OneOfTheClass(Y_train, 6)\n",
    "    max_acc = 0\n",
    "    for g in range(5):\n",
    "        param = '-s 0 -t 2 -c 0.1 -g ' + str(gamma[g])\n",
    "        m = svm_train(label_train, X_train, param)\n",
    "        p_label, p_acc, p_val = svm_predict(label_val, X_val, m)\n",
    "        if p_acc[0] > max_acc:\n",
    "            max_acc = p_acc[0]\n",
    "            best = g\n",
    "    print(i, \":\", gamma[best], end = \"\\r\")\n",
    "    choose_time[best] += 1\n",
    "print(\"20: \", choose_time)"
   ]
  }
 ],
 "metadata": {
  "kernelspec": {
   "display_name": "Python 3",
   "language": "python",
   "name": "python3"
  },
  "language_info": {
   "codemirror_mode": {
    "name": "ipython",
    "version": 3
   },
   "file_extension": ".py",
   "mimetype": "text/x-python",
   "name": "python",
   "nbconvert_exporter": "python",
   "pygments_lexer": "ipython3",
   "version": "3.7.7"
  }
 },
 "nbformat": 4,
 "nbformat_minor": 4
}
