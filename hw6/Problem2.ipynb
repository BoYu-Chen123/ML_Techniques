{
 "cells": [
  {
   "cell_type": "code",
   "execution_count": 24,
   "metadata": {},
   "outputs": [],
   "source": [
    "import numpy as np"
   ]
  },
  {
   "cell_type": "code",
   "execution_count": 30,
   "metadata": {},
   "outputs": [
    {
     "name": "stdout",
     "output_type": "stream",
     "text": [
      "0\n",
      "1130\n",
      "1138\n",
      "1155\n",
      "1170\n",
      "1183\n",
      "1194\n",
      "1203\n",
      "1210\n",
      "1215\n",
      "1218\n",
      "1219\n",
      "217286\n"
     ]
    }
   ],
   "source": [
    "combinations = []\n",
    "num = 50\n",
    "def possible_comb(curr, comb, level):\n",
    "\t#print(\"a\", comb, curr)\n",
    "\n",
    "\tif curr == num:\n",
    "\t\tcombinations.append(comb)\n",
    "\t\treturn\n",
    "\n",
    "\tif curr > num:\n",
    "\t\treturn\n",
    "\t#next level+1, or curr level+1\n",
    "\tnewcomb = comb.copy()\n",
    "\tnewcomb2 = comb.copy()\n",
    "\n",
    "\tnewcomb[len(comb)-1] += 1\n",
    "\tcurr=curr+1\n",
    "\tpossible_comb(curr, newcomb, level)\n",
    "\tcurr=curr-1\n",
    "\n",
    "\tcurr=curr+4\n",
    "\tnewcomb2.append(4)\n",
    "\tpossible_comb(curr, newcomb2, level+1)\n",
    "\n",
    "\n",
    "def q2():\n",
    "\tmycomb = []\n",
    "\tmycomb.append(10)\n",
    "\tpossible_comb(10, mycomb, 0)\n",
    "\tmax_w = 0\n",
    "\tfor i in range(len(combinations)):\n",
    "\t\tmult = 0\n",
    "\t\tk=0\n",
    "\t\tfor j in range(len(combinations[i])-1):\n",
    "\t\t\tk+=1\n",
    "\t\t\tmult += combinations[i][j] * (combinations[i][j+1] - 1)\n",
    "\n",
    "\t\tmult += 20 * (combinations[i][0] - 1)\n",
    "\t\tmult += (combinations[i][k])*(3)\n",
    "\t\t#print(mult)\n",
    "\t\tif(mult > max_w):\n",
    "\t\t\tprint(max_w)\n",
    "\t\t\tmax_w = mult\n",
    "\tprint(max_w)\n",
    "\n",
    "q2()\n",
    "print(len(combinations))\n",
    "\n",
    "\n",
    "\n",
    "\n"
   ]
  },
  {
   "cell_type": "code",
   "execution_count": 61,
   "metadata": {},
   "outputs": [],
   "source": [
    "limit = 50\n",
    "possible_ds = []\n",
    "def permute(d, ds, layer):\n",
    "    if limit==d:\n",
    "        possible_ds.append(ds)\n",
    "        return\n",
    "    elif limit<d:\n",
    "        return\n",
    "    else:\n",
    "        ds_PlusOneNode = ds.copy()\n",
    "        ds_PlusOneNode[-1] += 1\n",
    "        d += 1\n",
    "        permute(d, ds_PlusOneNode, layer)\n",
    "        d -= 1\n",
    "        \n",
    "        ds_PlusOneLayer = ds.copy()\n",
    "        d += 4\n",
    "        ds_PlusOneLayer.append(4)\n",
    "        permute(d, ds_PlusOneLayer, layer+1)\n",
    "\n",
    "def compute_num_node():\n",
    "    permute(2, [2], 0)\n",
    "    max_num_node = 0\n",
    "    for i in range(len(possible_ds)):\n",
    "        num_node = 0\n",
    "        for j in range(len(possible_ds[i])-1):\n",
    "            num_node += (possible_ds[i][j] * (possible_ds[i][j+1]-1))\n",
    "        num_node += (20*(possible_ds[i][0]-1))\n",
    "        num_node += (possible_ds[i][-1]*3)\n",
    "        if num_node>max_num_node:\n",
    "            max_num_node = num_node\n",
    "    return(max_num_node)\n"
   ]
  },
  {
   "cell_type": "code",
   "execution_count": 62,
   "metadata": {},
   "outputs": [
    {
     "name": "stdout",
     "output_type": "stream",
     "text": [
      "max_num_node:  1219\n"
     ]
    }
   ],
   "source": [
    "print(\"max_num_node: \", compute_num_node())"
   ]
  },
  {
   "cell_type": "code",
   "execution_count": null,
   "metadata": {},
   "outputs": [],
   "source": []
  }
 ],
 "metadata": {
  "kernelspec": {
   "display_name": "Python 3",
   "language": "python",
   "name": "python3"
  },
  "language_info": {
   "codemirror_mode": {
    "name": "ipython",
    "version": 3
   },
   "file_extension": ".py",
   "mimetype": "text/x-python",
   "name": "python",
   "nbconvert_exporter": "python",
   "pygments_lexer": "ipython3",
   "version": "3.7.7"
  }
 },
 "nbformat": 4,
 "nbformat_minor": 4
}
