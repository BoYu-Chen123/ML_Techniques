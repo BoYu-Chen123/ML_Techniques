{
 "cells": [
  {
   "cell_type": "code",
   "execution_count": 218,
   "metadata": {},
   "outputs": [],
   "source": [
    "import numpy as np\n",
    "import math\n",
    "import sys"
   ]
  },
  {
   "cell_type": "code",
   "execution_count": 219,
   "metadata": {},
   "outputs": [],
   "source": [
    "def readfile(filename):\n",
    "    X = []\n",
    "    Y = []\n",
    "    for lines in open(filename).readlines():\n",
    "        temp = lines.strip().split()\n",
    "        x = []\n",
    "        for feature in temp[:-1]:\n",
    "            x.append(float(feature))\n",
    "        X.append(x)\n",
    "        Y.append(int(float(temp[-1])))\n",
    "    return np.asarray(X), np.asarray(Y)"
   ]
  },
  {
   "cell_type": "code",
   "execution_count": 220,
   "metadata": {},
   "outputs": [],
   "source": [
    "def Gini_impurity(x, y, feature, theta, num_l, num_r):\n",
    "    N = np.shape(x)[0]\n",
    "    lp, ln, rp, rn = 0, 0, 0, 0\n",
    "    for i in range(N):\n",
    "        if x[:, feature][i] > theta:\n",
    "            if y[i]==1:\n",
    "                rp += 1\n",
    "            rn = num_r-rp\n",
    "        else:\n",
    "            if y[i]==1:\n",
    "                lp += 1\n",
    "            ln = num_l-lp\n",
    "    l_gini = 1-((lp/num_l)**2)-((ln/num_l)**2)\n",
    "    r_gini = 1-((rp/num_r)**2)-((rn/num_r)**2)\n",
    "    impurity = num_l*l_gini + num_r*r_gini\n",
    "    return impurity\n",
    "    \n",
    "def select_theta(x, y, feature):\n",
    "    v = sorted(set(x[:, feature]))\n",
    "    values = np.array(v)\n",
    "    N = np.shape(x)[0]\n",
    "    min_impurity, best_theta = 10000000, None\n",
    "    left = 0\n",
    "    right = len(values)\n",
    "    for i in range(len(values)-1):\n",
    "        theta = (values[i]+values[i+1]) / 2\n",
    "        left += 1\n",
    "        right -= 1\n",
    "        impurity = Gini_impurity(x, y, feature, theta, left, right)\n",
    "        if impurity<min_impurity:\n",
    "            min_impurity, best_theta = impurity, theta\n",
    "    return min_impurity, best_theta\n",
    "\n",
    "def select_feature(x, y):\n",
    "    min_impurity, best_theta, best_feature = 10000000, None, None\n",
    "    for i in range(10):\n",
    "        impurity, theta = select_theta(x, y, i)\n",
    "        if impurity<min_impurity:\n",
    "            min_impurity, best_theta, best_feature = impurity, theta, i\n",
    "    return best_theta, best_feature"
   ]
  },
  {
   "cell_type": "code",
   "execution_count": null,
   "metadata": {},
   "outputs": [],
   "source": []
  },
  {
   "cell_type": "code",
   "execution_count": null,
   "metadata": {},
   "outputs": [],
   "source": []
  },
  {
   "cell_type": "code",
   "execution_count": 221,
   "metadata": {},
   "outputs": [],
   "source": [
    "class Node:\n",
    "    def __init__(self, theta, feature):\n",
    "        self.left = None\n",
    "        self.right = None\n",
    "        self.theta = theta\n",
    "        self.feature = feature\n",
    "        self.is_leaf = False\n",
    "        self.predict = None\n",
    "def binary_tree(x, y):\n",
    "    y_list = y.tolist()\n",
    "    p = y_list.count(1)\n",
    "    n = y_list.count(-1)\n",
    "    ## terminate => return g(t)\n",
    "    if (p==0) or (n==0):\n",
    "        leaf = Node(None,None)\n",
    "        leaf.is_leaf = True\n",
    "        if p>0: leaf.predict =  1\n",
    "        else:   leaf.predict = -1\n",
    "        return leaf\n",
    "    elif (x!=x[0]).sum()==0:\n",
    "        leaf = Node(None,None)\n",
    "        leaf.is_leaf = True\n",
    "        leaf.predict = -1\n",
    "        return leaf\n",
    "    ## no terminate\n",
    "    else:\n",
    "        ## learn branching criteria\n",
    "        theta, feature = select_feature(x, y)\n",
    "        ## split D to 2 parts = {X[:, feature]<=theta}{X[:, feature]>theta}\n",
    "        x1, y1, x2, y2 = [], [], [], []\n",
    "        N = np.shape(x)[0]\n",
    "        split = np.where(x[:, feature] > theta, 1, -1)\n",
    "        for i in range(N):\n",
    "            if split[i]==-1:\n",
    "                x1.append(x[i])\n",
    "                y1.append(y[i])\n",
    "            elif split[i]==1:\n",
    "                x2.append(x[i])\n",
    "                y2.append(y[i])\n",
    "        ## build two sub-tree\n",
    "        if(len(y1)==0)or(len(y2)==0):\n",
    "            split_list = split.tolist()\n",
    "\n",
    "        tree = Node(theta, feature)\n",
    "        tree.left  = binary_tree(np.asarray(x1), np.asarray(y1))\n",
    "        tree.right = binary_tree(np.asarray(x2), np.asarray(y2))\n",
    "        ## return tree\n",
    "        return tree"
   ]
  },
  {
   "cell_type": "code",
   "execution_count": 222,
   "metadata": {},
   "outputs": [],
   "source": [
    "def get_predict_label(node, xn):\n",
    "    if node.is_leaf:\n",
    "        return node.predict\n",
    "    if xn[node.feature] <= node.theta:\n",
    "        return get_predict_label(node.left, xn)\n",
    "    elif xn[node.feature] > node.theta:\n",
    "        return get_predict_label(node.right, xn)\n",
    "def predict(x, y, root):\n",
    "    N, correct = np.shape(x)[0], 0\n",
    "    pre = []\n",
    "    for i in range(N):\n",
    "        predict_label = get_predict_label(root, x[i])\n",
    "        pre.append(predict_label)\n",
    "        if predict_label==y[i]:\n",
    "            correct += 1\n",
    "    return pre, round(correct/N, 3)"
   ]
  },
  {
   "cell_type": "code",
   "execution_count": 223,
   "metadata": {},
   "outputs": [],
   "source": [
    "T = 0\n",
    "X, Y = readfile(\"hw6_train.dat\")\n",
    "Xt, Yt = readfile(\"hw6_test.dat\")\n",
    "idx = np.random.randint(1000, size=500)\n",
    "Xb = X[idx, :]\n",
    "Yb = Y[idx]\n",
    "root = binary_tree(Xb, Yb)\n",
    "np.save('Choose_points-'+str(T), idx)"
   ]
  },
  {
   "cell_type": "code",
   "execution_count": 224,
   "metadata": {},
   "outputs": [
    {
     "name": "stdout",
     "output_type": "stream",
     "text": [
      "Train_Acc: 0.89\n",
      "Test_Acc: 0.76\n",
      "Eout:  0.24\n"
     ]
    }
   ],
   "source": [
    "## 14. \n",
    "Train_Pre, Train_Acc = predict(X, Y, root)\n",
    "Test_Pre, Test_Acc = predict(Xt, Yt, root)\n",
    "np.save('Train_Pre-'+str(T), Train_Pre)\n",
    "np.save('Train_Acc-'+str(T), Train_Acc)\n",
    "print(\"Train_Acc:\", Train_Acc)\n",
    "np.save('Test_Pre-'+str(T), Test_Pre)\n",
    "np.save('Test_Acc-'+str(T), Test_Acc)\n",
    "print(\"Test_Acc:\", Test_Acc)\n",
    "print(\"Eout: \", 1-Test_Acc)"
   ]
  },
  {
   "cell_type": "code",
   "execution_count": null,
   "metadata": {},
   "outputs": [],
   "source": []
  },
  {
   "cell_type": "code",
   "execution_count": null,
   "metadata": {},
   "outputs": [],
   "source": []
  },
  {
   "cell_type": "code",
   "execution_count": null,
   "metadata": {},
   "outputs": [],
   "source": []
  }
 ],
 "metadata": {
  "kernelspec": {
   "display_name": "Python 3",
   "language": "python",
   "name": "python3"
  },
  "language_info": {
   "codemirror_mode": {
    "name": "ipython",
    "version": 3
   },
   "file_extension": ".py",
   "mimetype": "text/x-python",
   "name": "python",
   "nbconvert_exporter": "python",
   "pygments_lexer": "ipython3",
   "version": "3.7.7"
  }
 },
 "nbformat": 4,
 "nbformat_minor": 4
}
